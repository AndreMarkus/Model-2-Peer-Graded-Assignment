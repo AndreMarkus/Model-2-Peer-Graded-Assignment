{
    "cells": [
        {
            "metadata": {
                "collapsed": true
            },
            "cell_type": "markdown",
            "source": "# My Jupyter Notebook on IBM Watson Studio"
        },
        {
            "metadata": {},
            "cell_type": "markdown",
            "source": "__Andr\u00e9 Tura Markus__\n\nMechanical Engineer"
        },
        {
            "metadata": {},
            "cell_type": "markdown",
            "source": "_I am interested in data science because I believe it could give me better job opportunities._"
        },
        {
            "metadata": {},
            "cell_type": "markdown",
            "source": "### The code calculate the Young\u00b4s modulus E given the deformation Epsilon and the Stress Sigma"
        },
        {
            "metadata": {},
            "cell_type": "code",
            "source": "Sigma=100e6\nEpsilon=2e-3\nE=Sigma/Epsilon\nprint(E)",
            "execution_count": 10,
            "outputs": [
                {
                    "output_type": "stream",
                    "text": "50000000000.0\n",
                    "name": "stdout"
                }
            ]
        },
        {
            "metadata": {},
            "cell_type": "markdown",
            "source": "1. Numbered list\n\n2. Horizontal Line\n***\n3. Hyperlinks and bulleted list\n\n- <a href=\"https://cf-courses-data.s3.us.cloud-object-storage.appdomain.cloud/IBMDeveloperSkillsNetwork-DS0105EN-SkillsNetwork/labs/FinalModule_Coursera/Final_Instruction_toolforDS.md.html?origin=www.coursera.org\" target=\"_blank\" rel=\"noopener noreferrer\">Instructions for the assignment</a>\n\n- <a href=\"https://dataplatform.cloud.ibm.com/docs/content/wsj/analyze-data/markd-jupyter.html\" target=\"_blank\" rel=\"noopener noreferrer\">Markdown Cheatsheet</a>"
        }
    ],
    "metadata": {
        "kernelspec": {
            "name": "python3",
            "display_name": "Python 3.9",
            "language": "python"
        },
        "language_info": {
            "name": "python",
            "version": "3.9.13",
            "mimetype": "text/x-python",
            "codemirror_mode": {
                "name": "ipython",
                "version": 3
            },
            "pygments_lexer": "ipython3",
            "nbconvert_exporter": "python",
            "file_extension": ".py"
        }
    },
    "nbformat": 4,
    "nbformat_minor": 1
}